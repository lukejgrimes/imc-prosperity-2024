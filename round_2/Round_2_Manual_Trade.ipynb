{
  "nbformat": 4,
  "nbformat_minor": 0,
  "metadata": {
    "colab": {
      "provenance": []
    },
    "kernelspec": {
      "name": "python3",
      "display_name": "Python 3"
    },
    "language_info": {
      "name": "python"
    }
  },
  "cells": [
    {
      "cell_type": "code",
      "source": [
        "def dp(from_cur, num_trades, position, trades):\n",
        "  if num_trades == 4:\n",
        "      trades.append(3)\n",
        "      return conversion_table[from_cur][3] * position, trades\n",
        "\n",
        "  state = (from_cur, num_trades)\n",
        "  if state in mem:\n",
        "    return mem[state]\n",
        "\n",
        "  max_profit = 0\n",
        "  best_trades = None\n",
        "  for num in range(4):\n",
        "    if num == from_cur:\n",
        "      continue\n",
        "\n",
        "    next_position = position * conversion_table[from_cur][num]\n",
        "    profit, all_trades = dp(num, num_trades + 1, next_position, trades + [num])\n",
        "    if profit > max_profit:\n",
        "      max_profit = profit\n",
        "      best_trades = all_trades\n",
        "\n",
        "  mem[state] = (max_profit, best_trades)\n",
        "  return mem[state]\n",
        "\n",
        "\n",
        "conversion_table = [\n",
        "    [1, 0.48, 1.52, 0.71],\n",
        "    [2.05, 1, 3.26, 1.56],\n",
        "    [0.64, 0.3, 1, 0.46],\n",
        "    [1.41, 0.61, 2.08, 1]\n",
        "]\n",
        "mem = {}\n",
        "profit, trades = dp(3, 0, 2000000, [])\n",
        "print(f\"Best possible profit: {profit - 2000000}, Optimal Trades: {trades}\")"
      ],
      "metadata": {
        "colab": {
          "base_uri": "https://localhost:8080/"
        },
        "id": "1D1euaLnY5UI",
        "outputId": "180e2118-9195-463c-af71-55040160c37b"
      },
      "execution_count": 64,
      "outputs": [
        {
          "output_type": "stream",
          "name": "stdout",
          "text": [
            "Best possible profit: 113938.77760000015, Optimal Trades: [0, 1, 3, 0, 3]\n"
          ]
        }
      ]
    },
    {
      "cell_type": "code",
      "source": [],
      "metadata": {
        "id": "UdKsKBldeMCW"
      },
      "execution_count": 56,
      "outputs": []
    }
  ]
}